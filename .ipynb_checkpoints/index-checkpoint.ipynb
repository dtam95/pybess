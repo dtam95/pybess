{
 "cells": [
  {
   "cell_type": "markdown",
   "metadata": {},
   "source": [
    "![title](battery_pic.jpg)"
   ]
  },
  {
   "cell_type": "markdown",
   "metadata": {},
   "source": [
    "<h4> Import Modules </h4>"
   ]
  },
  {
   "cell_type": "code",
   "execution_count": 1,
   "metadata": {
    "scrolled": true
   },
   "outputs": [
    {
     "ename": "ModuleNotFoundError",
     "evalue": "No module named 'nemosis'",
     "output_type": "error",
     "traceback": [
      "\u001b[1;31m---------------------------------------------------------------------------\u001b[0m",
      "\u001b[1;31mModuleNotFoundError\u001b[0m                       Traceback (most recent call last)",
      "\u001b[1;32m<ipython-input-1-9fab10577b86>\u001b[0m in \u001b[0;36m<module>\u001b[1;34m\u001b[0m\n\u001b[0;32m      2\u001b[0m \u001b[1;32mimport\u001b[0m \u001b[0mdatetime\u001b[0m\u001b[1;33m\u001b[0m\u001b[0m\n\u001b[0;32m      3\u001b[0m \u001b[1;32mfrom\u001b[0m \u001b[0mpybess\u001b[0m\u001b[1;33m.\u001b[0m\u001b[0mBattery\u001b[0m \u001b[1;32mimport\u001b[0m \u001b[0mBattery\u001b[0m\u001b[1;33m\u001b[0m\u001b[0m\n\u001b[1;32m----> 4\u001b[1;33m \u001b[1;32mfrom\u001b[0m \u001b[0mpybess\u001b[0m\u001b[1;33m.\u001b[0m\u001b[0mArbitrage\u001b[0m \u001b[1;32mimport\u001b[0m \u001b[0mArbitrage\u001b[0m\u001b[1;33m\u001b[0m\u001b[0m\n\u001b[0m\u001b[0;32m      5\u001b[0m \u001b[1;32mfrom\u001b[0m \u001b[0mpybess\u001b[0m\u001b[1;33m.\u001b[0m\u001b[0mutils\u001b[0m \u001b[1;32mimport\u001b[0m \u001b[1;33m*\u001b[0m\u001b[1;33m\u001b[0m\u001b[0m\n\u001b[0;32m      6\u001b[0m \u001b[1;32mfrom\u001b[0m \u001b[0mIPython\u001b[0m\u001b[1;33m.\u001b[0m\u001b[0mcore\u001b[0m\u001b[1;33m.\u001b[0m\u001b[0mdisplay\u001b[0m \u001b[1;32mimport\u001b[0m \u001b[0mdisplay\u001b[0m\u001b[1;33m,\u001b[0m \u001b[0mHTML\u001b[0m\u001b[1;33m\u001b[0m\u001b[0m\n",
      "\u001b[1;32m~\\Documents\\GitHub\\pybess\\pybess\\Arbitrage.py\u001b[0m in \u001b[0;36m<module>\u001b[1;34m\u001b[0m\n\u001b[0;32m      2\u001b[0m \u001b[1;32mfrom\u001b[0m \u001b[0mpybess\u001b[0m\u001b[1;33m.\u001b[0m\u001b[0mHistoricalOpt\u001b[0m \u001b[1;32mimport\u001b[0m \u001b[0mHistoricalOpt\u001b[0m\u001b[1;33m\u001b[0m\u001b[0m\n\u001b[0;32m      3\u001b[0m \u001b[1;32mfrom\u001b[0m \u001b[0mpybess\u001b[0m\u001b[1;33m.\u001b[0m\u001b[0mBattery\u001b[0m \u001b[1;32mimport\u001b[0m \u001b[0mBattery\u001b[0m\u001b[1;33m\u001b[0m\u001b[0m\n\u001b[1;32m----> 4\u001b[1;33m \u001b[1;32mfrom\u001b[0m \u001b[0mpybess\u001b[0m\u001b[1;33m.\u001b[0m\u001b[0mImporter\u001b[0m \u001b[1;32mimport\u001b[0m \u001b[0mNEMOSISImporter\u001b[0m\u001b[1;33m\u001b[0m\u001b[0m\n\u001b[0m\u001b[0;32m      5\u001b[0m \u001b[1;33m\u001b[0m\u001b[0m\n\u001b[0;32m      6\u001b[0m \u001b[1;32mclass\u001b[0m \u001b[0mArbitrage\u001b[0m\u001b[1;33m(\u001b[0m\u001b[0mobject\u001b[0m\u001b[1;33m)\u001b[0m\u001b[1;33m:\u001b[0m\u001b[1;33m\u001b[0m\u001b[0m\n",
      "\u001b[1;32m~\\Documents\\GitHub\\pybess\\pybess\\Importer.py\u001b[0m in \u001b[0;36m<module>\u001b[1;34m\u001b[0m\n\u001b[0;32m      2\u001b[0m \u001b[1;32mimport\u001b[0m \u001b[0mdatetime\u001b[0m\u001b[1;33m\u001b[0m\u001b[0m\n\u001b[0;32m      3\u001b[0m \u001b[1;32mfrom\u001b[0m \u001b[0mabc\u001b[0m \u001b[1;32mimport\u001b[0m \u001b[0mABC\u001b[0m\u001b[1;33m,\u001b[0m \u001b[0mabstractmethod\u001b[0m\u001b[1;33m\u001b[0m\u001b[0m\n\u001b[1;32m----> 4\u001b[1;33m \u001b[1;32mfrom\u001b[0m \u001b[0mnemosis\u001b[0m \u001b[1;32mimport\u001b[0m \u001b[0mdata_fetch_methods\u001b[0m\u001b[1;33m\u001b[0m\u001b[0m\n\u001b[0m\u001b[0;32m      5\u001b[0m \u001b[1;33m\u001b[0m\u001b[0m\n\u001b[0;32m      6\u001b[0m \u001b[1;32mclass\u001b[0m \u001b[0mImporter\u001b[0m\u001b[1;33m(\u001b[0m\u001b[0mobject\u001b[0m\u001b[1;33m)\u001b[0m\u001b[1;33m:\u001b[0m\u001b[1;33m\u001b[0m\u001b[0m\n",
      "\u001b[1;31mModuleNotFoundError\u001b[0m: No module named 'nemosis'"
     ]
    }
   ],
   "source": [
    "import pandas as pd\n",
    "import datetime\n",
    "from pybess.Battery import Battery\n",
    "from pybess.Arbitrage import Arbitrage\n",
    "from pybess.utils import *\n",
    "from IPython.core.display import display, HTML\n",
    "import warnings\n",
    "warnings.filterwarnings('ignore')"
   ]
  },
  {
   "cell_type": "markdown",
   "metadata": {},
   "source": [
    "<h4> Define Battery </h4>"
   ]
  },
  {
   "cell_type": "code",
   "execution_count": null,
   "metadata": {
    "scrolled": true
   },
   "outputs": [],
   "source": [
    "battery = Battery(cap_power=30, cap_store=119, charge_eff=0.9, dcharge_factor=1/0.9, cap_init=0)"
   ]
  },
  {
   "cell_type": "markdown",
   "metadata": {},
   "source": [
    "<h4> Define Constants </h4> \n",
    "<p> Note that the start-date must be greater than 2010-01-01 and the end date cannot be equal or greater than today's date. </p>"
   ]
  },
  {
   "cell_type": "code",
   "execution_count": null,
   "metadata": {
    "scrolled": true
   },
   "outputs": [],
   "source": [
    "start_date = datetime.datetime(2018, 1, 1)\n",
    "end_date = datetime.datetime(2019, 1, 1)\n",
    "state=\"SA1\""
   ]
  },
  {
   "cell_type": "markdown",
   "metadata": {},
   "source": [
    "Using a historical price series, energy arbitrage can be formulated with the following maximisation function:\n",
    "\\begin{align*}\n",
    "  \\max \\sum_{i=0}^T \\left(x^{(i)}_c + x^{(i)}_d \\right) p^{(i)} \\times \\left( \\frac{l}{60} \\right)\n",
    "\\end{align*}\n",
    "Subject to the constraints:\n",
    "\\begin{alignat} {2}\n",
    "    -P_{max} &\\leq x^{(i)}_c \\leq 0  &&\\forall i \\in [0,T]\\\\\n",
    "    0 &\\leq x^{(i)}_d \\leq P_{max}  &&\\forall i \\in [0,T]\\\\\n",
    "    0 &\\leq E^{(i)} \\leq E_{max} &&\\forall i \\in [0,T] \\\\\n",
    "    E^{(0)} &= E_{\\text{init}} - \\left(x^{(0)}_c \\eta_c + x^{(0)}_d \\frac{1}{\\eta_d} \\right) \\frac{l}{60} && \\\\\n",
    "    E^{(i)} &= E^{(i-1)} - \\left(x^{(i)}_c \\eta_c + x^{(i)}_d \\frac{1}{\\eta_d} \\right) \\frac{l}{60} \\hspace{1cm} &&\\forall i \\in [1,T] \n",
    "\\end{alignat}"
   ]
  },
  {
   "cell_type": "code",
   "execution_count": null,
   "metadata": {
    "scrolled": true
   },
   "outputs": [],
   "source": [
    "arb = Arbitrage(battery, start_date, end_date, state)\n",
    "arb.solve()\n",
    "arb_results = arb.results()"
   ]
  },
  {
   "cell_type": "markdown",
   "metadata": {},
   "source": [
    "<h4> Explore Outputs </h4>"
   ]
  },
  {
   "cell_type": "markdown",
   "metadata": {},
   "source": [
    "<h5> Explore Half Hourly Output </h5>"
   ]
  },
  {
   "cell_type": "code",
   "execution_count": null,
   "metadata": {
    "scrolled": true
   },
   "outputs": [],
   "source": [
    "display(arb_results.head())"
   ]
  },
  {
   "cell_type": "markdown",
   "metadata": {},
   "source": [
    "<h5> Explore Revenue by Month </h5>"
   ]
  },
  {
   "cell_type": "markdown",
   "metadata": {},
   "source": [
    "As trading price is half hourly, revenue is given by:\n",
    "\\begin{equation}\n",
    "    \\text{Revenue (\\$)} =  \\dfrac{Target(MW) \\times RRP (\\$/MWh)}{2} \n",
    "\\end{equation}"
   ]
  },
  {
   "cell_type": "code",
   "execution_count": null,
   "metadata": {
    "scrolled": true
   },
   "outputs": [],
   "source": [
    "arb_results['revenue'] = arb_results['dispatch']*arb_results['RRP']/2\n",
    "arb_results['year_month'] = arb_results['timestamp'].shift(1).dt.strftime('%Y-%m-01') #Trading Interval Ending\n",
    "monthly_arb_results =  arb_results.groupby('year_month')['revenue'].sum().reset_index()\n",
    "monthly_arb_results_formatted = monthly_arb_results\n",
    "monthly_arb_results_formatted['revenue'] = monthly_arb_results_formatted['revenue'].map('${:,.2f}'.format)\n",
    "display(monthly_arb_results_formatted.head(n=12))"
   ]
  },
  {
   "cell_type": "markdown",
   "metadata": {},
   "source": [
    "<h4> Plot Ouputs </h4>"
   ]
  },
  {
   "cell_type": "code",
   "execution_count": null,
   "metadata": {
    "scrolled": true
   },
   "outputs": [],
   "source": [
    "display(nbplot(arb))"
   ]
  }
 ],
 "metadata": {
  "kernelspec": {
   "display_name": "Python 3",
   "language": "python",
   "name": "python3"
  },
  "language_info": {
   "codemirror_mode": {
    "name": "ipython",
    "version": 3
   },
   "file_extension": ".py",
   "mimetype": "text/x-python",
   "name": "python",
   "nbconvert_exporter": "python",
   "pygments_lexer": "ipython3",
   "version": "3.6.4"
  }
 },
 "nbformat": 4,
 "nbformat_minor": 2
}
