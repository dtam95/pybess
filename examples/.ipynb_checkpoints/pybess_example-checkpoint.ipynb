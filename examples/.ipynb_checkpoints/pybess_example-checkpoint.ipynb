{
 "cells": [
  {
   "cell_type": "markdown",
   "metadata": {},
   "source": [
    "<h1 style=\"margin-top: 4rem; margin-left:5rem; position: absolute; \"> pyBESS Example Notebook </h1> \n",
    "<p style=\"margin-top: 8rem; margin-left:5rem; position: absolute; \"> An example notebook which explores the energy setpoint aribitrage revenue <br> of South Australian 'Big Battery' - The Hornsdale Power Reserve.</p> \n",
    "<img src=\"./battery_pic.jpg\" alt=\"\" />"
   ]
  },
  {
   "cell_type": "markdown",
   "metadata": {},
   "source": [
    "<h4> Import Modules </h4>"
   ]
  },
  {
   "cell_type": "code",
   "execution_count": 1,
   "metadata": {},
   "outputs": [
    {
     "name": "stdout",
     "output_type": "stream",
     "text": [
      "C:\\Users\\Henry\\Anaconda3\\envs\\thesisenv\\lib\\site-packages\\nemosis\\custom_tables.py\n"
     ]
    }
   ],
   "source": [
    "import pandas as pd\n",
    "import datetime\n",
    "from pybess.Battery import Battery\n",
    "from pybess.Arbitrage import Arbitrage\n",
    "from pybess.utils import *\n",
    "from IPython.core.display import display, HTML\n",
    "import warnings\n",
    "warnings.filterwarnings('ignore')"
   ]
  },
  {
   "cell_type": "markdown",
   "metadata": {},
   "source": [
    "<h4> Define Battery </h4>"
   ]
  },
  {
   "cell_type": "code",
   "execution_count": 2,
   "metadata": {},
   "outputs": [],
   "source": [
    "battery = Battery(cap_power=30, cap_store=119, charge_eff=0.9, dcharge_factor=1/0.9, cap_init=0)"
   ]
  },
  {
   "cell_type": "markdown",
   "metadata": {},
   "source": [
    "<h4> Define Constants </h4> \n",
    "<p> Note that the start-date must be greater than 2010-01-01 and the end date cannot be equal or greater than today's date. </p>"
   ]
  },
  {
   "cell_type": "code",
   "execution_count": 3,
   "metadata": {},
   "outputs": [],
   "source": [
    "start_date = datetime.datetime(2018, 1, 1)\n",
    "end_date = datetime.datetime(2019, 1, 1)\n",
    "state=\"SA1\""
   ]
  },
  {
   "cell_type": "markdown",
   "metadata": {},
   "source": [
    "Using a historical price series, energy arbitrage can be formulated with the following maximisation function:\n",
    "\\begin{align*}\n",
    "  \\max \\sum_{i=0}^T \\left(x^{(i)}_c + x^{(i)}_d \\right) p^{(i)} \\times \\left( \\frac{l}{60} \\right)\n",
    "\\end{align*}\n",
    "Subject to the constraints:\n",
    "\\begin{alignat} {2}\n",
    "    -P_{max} &\\leq x^{(i)}_c \\leq 0  &&\\forall i \\in [0,T]\\\\\n",
    "    0 &\\leq x^{(i)}_d \\leq P_{max}  &&\\forall i \\in [0,T]\\\\\n",
    "    0 &\\leq E^{(i)} \\leq E_{max} &&\\forall i \\in [0,T] \\\\\n",
    "    E^{(0)} &= E_{\\text{init}} - \\left(x^{(0)}_c \\eta_c + x^{(0)}_d \\frac{1}{\\eta_d} \\right) \\frac{l}{60} && \\\\\n",
    "    E^{(i)} &= E^{(i-1)} - \\left(x^{(i)}_c \\eta_c + x^{(i)}_d \\frac{1}{\\eta_d} \\right) \\frac{l}{60} \\hspace{1cm} &&\\forall i \\in [1,T] \n",
    "\\end{alignat}"
   ]
  },
  {
   "cell_type": "code",
   "execution_count": 4,
   "metadata": {},
   "outputs": [
    {
     "name": "stdout",
     "output_type": "stream",
     "text": [
      "Compiling data for table TRADINGPRICE.\n",
      "Running optimisation for \n",
      " STATE: SA1, \n",
      " BATTERY: 30MW/119MWh Battery., \n",
      " FROM: 2018-01-01 00:00:00, \n",
      " TO: 2019-01-01 00:00:00\n",
      "Defining optimisation problem...\n",
      "Solving optimisation problem...\n",
      "...Solved!\n"
     ]
    }
   ],
   "source": [
    "arb = Arbitrage(battery, start_date, end_date, state)\n",
    "arb.solve()\n",
    "arb_results = arb.results()"
   ]
  },
  {
   "cell_type": "markdown",
   "metadata": {},
   "source": [
    "<h4> Explore Outputs </h4>"
   ]
  },
  {
   "cell_type": "markdown",
   "metadata": {},
   "source": [
    "<h5> Explore Half Hourly Output </h5>"
   ]
  },
  {
   "cell_type": "code",
   "execution_count": 5,
   "metadata": {},
   "outputs": [
    {
     "data": {
      "text/html": [
       "<div>\n",
       "<style scoped>\n",
       "    .dataframe tbody tr th:only-of-type {\n",
       "        vertical-align: middle;\n",
       "    }\n",
       "\n",
       "    .dataframe tbody tr th {\n",
       "        vertical-align: top;\n",
       "    }\n",
       "\n",
       "    .dataframe thead th {\n",
       "        text-align: right;\n",
       "    }\n",
       "</style>\n",
       "<table border=\"1\" class=\"dataframe\">\n",
       "  <thead>\n",
       "    <tr style=\"text-align: right;\">\n",
       "      <th></th>\n",
       "      <th>timestamp</th>\n",
       "      <th>discharge</th>\n",
       "      <th>charge</th>\n",
       "      <th>dispatch</th>\n",
       "      <th>stored_energy</th>\n",
       "      <th>RRP</th>\n",
       "    </tr>\n",
       "  </thead>\n",
       "  <tbody>\n",
       "    <tr>\n",
       "      <th>0</th>\n",
       "      <td>2018-01-01 00:30:00</td>\n",
       "      <td>0.0</td>\n",
       "      <td>0.0</td>\n",
       "      <td>0.0</td>\n",
       "      <td>0.0</td>\n",
       "      <td>107.17</td>\n",
       "    </tr>\n",
       "    <tr>\n",
       "      <th>1</th>\n",
       "      <td>2018-01-01 01:00:00</td>\n",
       "      <td>0.0</td>\n",
       "      <td>0.0</td>\n",
       "      <td>0.0</td>\n",
       "      <td>0.0</td>\n",
       "      <td>103.31</td>\n",
       "    </tr>\n",
       "    <tr>\n",
       "      <th>2</th>\n",
       "      <td>2018-01-01 01:30:00</td>\n",
       "      <td>0.0</td>\n",
       "      <td>0.0</td>\n",
       "      <td>0.0</td>\n",
       "      <td>0.0</td>\n",
       "      <td>88.20</td>\n",
       "    </tr>\n",
       "    <tr>\n",
       "      <th>3</th>\n",
       "      <td>2018-01-01 02:00:00</td>\n",
       "      <td>0.0</td>\n",
       "      <td>0.0</td>\n",
       "      <td>0.0</td>\n",
       "      <td>0.0</td>\n",
       "      <td>85.24</td>\n",
       "    </tr>\n",
       "    <tr>\n",
       "      <th>4</th>\n",
       "      <td>2018-01-01 02:30:00</td>\n",
       "      <td>0.0</td>\n",
       "      <td>0.0</td>\n",
       "      <td>0.0</td>\n",
       "      <td>0.0</td>\n",
       "      <td>81.75</td>\n",
       "    </tr>\n",
       "  </tbody>\n",
       "</table>\n",
       "</div>"
      ],
      "text/plain": [
       "            timestamp  discharge  charge  dispatch  stored_energy     RRP\n",
       "0 2018-01-01 00:30:00        0.0     0.0       0.0            0.0  107.17\n",
       "1 2018-01-01 01:00:00        0.0     0.0       0.0            0.0  103.31\n",
       "2 2018-01-01 01:30:00        0.0     0.0       0.0            0.0   88.20\n",
       "3 2018-01-01 02:00:00        0.0     0.0       0.0            0.0   85.24\n",
       "4 2018-01-01 02:30:00        0.0     0.0       0.0            0.0   81.75"
      ]
     },
     "metadata": {},
     "output_type": "display_data"
    }
   ],
   "source": [
    "display(arb_results.head())"
   ]
  },
  {
   "cell_type": "markdown",
   "metadata": {},
   "source": [
    "<h5> Explore Revenue by Month </h5>"
   ]
  },
  {
   "cell_type": "markdown",
   "metadata": {},
   "source": [
    "As trading price is half hourly, revenue is given by:\n",
    "\\begin{equation}\n",
    "    \\text{Revenue (\\$)} =  \\dfrac{Target(MW) \\times RRP (\\$/MWh)}{2} \n",
    "\\end{equation}"
   ]
  },
  {
   "cell_type": "code",
   "execution_count": 6,
   "metadata": {},
   "outputs": [
    {
     "data": {
      "text/html": [
       "<div>\n",
       "<style scoped>\n",
       "    .dataframe tbody tr th:only-of-type {\n",
       "        vertical-align: middle;\n",
       "    }\n",
       "\n",
       "    .dataframe tbody tr th {\n",
       "        vertical-align: top;\n",
       "    }\n",
       "\n",
       "    .dataframe thead th {\n",
       "        text-align: right;\n",
       "    }\n",
       "</style>\n",
       "<table border=\"1\" class=\"dataframe\">\n",
       "  <thead>\n",
       "    <tr style=\"text-align: right;\">\n",
       "      <th></th>\n",
       "      <th>year_month</th>\n",
       "      <th>revenue</th>\n",
       "    </tr>\n",
       "  </thead>\n",
       "  <tbody>\n",
       "    <tr>\n",
       "      <th>0</th>\n",
       "      <td>2018-01-01</td>\n",
       "      <td>$1,675,352.68</td>\n",
       "    </tr>\n",
       "    <tr>\n",
       "      <th>1</th>\n",
       "      <td>2018-02-01</td>\n",
       "      <td>$476,505.93</td>\n",
       "    </tr>\n",
       "    <tr>\n",
       "      <th>2</th>\n",
       "      <td>2018-03-01</td>\n",
       "      <td>$158,296.79</td>\n",
       "    </tr>\n",
       "    <tr>\n",
       "      <th>3</th>\n",
       "      <td>2018-04-01</td>\n",
       "      <td>$532,167.67</td>\n",
       "    </tr>\n",
       "    <tr>\n",
       "      <th>4</th>\n",
       "      <td>2018-05-01</td>\n",
       "      <td>$302,727.22</td>\n",
       "    </tr>\n",
       "    <tr>\n",
       "      <th>5</th>\n",
       "      <td>2018-06-01</td>\n",
       "      <td>$364,877.28</td>\n",
       "    </tr>\n",
       "    <tr>\n",
       "      <th>6</th>\n",
       "      <td>2018-07-01</td>\n",
       "      <td>$1,006,123.46</td>\n",
       "    </tr>\n",
       "    <tr>\n",
       "      <th>7</th>\n",
       "      <td>2018-08-01</td>\n",
       "      <td>$462,065.32</td>\n",
       "    </tr>\n",
       "    <tr>\n",
       "      <th>8</th>\n",
       "      <td>2018-09-01</td>\n",
       "      <td>$387,747.71</td>\n",
       "    </tr>\n",
       "    <tr>\n",
       "      <th>9</th>\n",
       "      <td>2018-10-01</td>\n",
       "      <td>$331,082.04</td>\n",
       "    </tr>\n",
       "    <tr>\n",
       "      <th>10</th>\n",
       "      <td>2018-11-01</td>\n",
       "      <td>$284,899.27</td>\n",
       "    </tr>\n",
       "    <tr>\n",
       "      <th>11</th>\n",
       "      <td>2018-12-01</td>\n",
       "      <td>$375,985.77</td>\n",
       "    </tr>\n",
       "  </tbody>\n",
       "</table>\n",
       "</div>"
      ],
      "text/plain": [
       "    year_month        revenue\n",
       "0   2018-01-01  $1,675,352.68\n",
       "1   2018-02-01    $476,505.93\n",
       "2   2018-03-01    $158,296.79\n",
       "3   2018-04-01    $532,167.67\n",
       "4   2018-05-01    $302,727.22\n",
       "5   2018-06-01    $364,877.28\n",
       "6   2018-07-01  $1,006,123.46\n",
       "7   2018-08-01    $462,065.32\n",
       "8   2018-09-01    $387,747.71\n",
       "9   2018-10-01    $331,082.04\n",
       "10  2018-11-01    $284,899.27\n",
       "11  2018-12-01    $375,985.77"
      ]
     },
     "metadata": {},
     "output_type": "display_data"
    }
   ],
   "source": [
    "arb_results['revenue'] = arb_results['dispatch']*arb_results['RRP']/2\n",
    "arb_results['year_month'] = arb_results['timestamp'].shift(1).dt.strftime('%Y-%m-01') #Trading Interval Ending\n",
    "monthly_arb_results =  arb_results.groupby('year_month')['revenue'].sum().reset_index()\n",
    "monthly_arb_results_formatted = monthly_arb_results\n",
    "monthly_arb_results_formatted['revenue'] = monthly_arb_results_formatted['revenue'].map('${:,.2f}'.format)\n",
    "display(monthly_arb_results_formatted.head(n=12))"
   ]
  },
  {
   "cell_type": "markdown",
   "metadata": {},
   "source": [
    "<h4> Plot Ouputs </h4>"
   ]
  },
  {
   "cell_type": "code",
   "execution_count": 12,
   "metadata": {},
   "outputs": [
    {
     "name": "stdout",
     "output_type": "stream",
     "text": [
      "The draw time for this plot will be slow for clients without much RAM.\n"
     ]
    },
    {
     "data": {
      "text/html": [
       "<iframe id=\"igraph\" scrolling=\"no\" style=\"border:none;\" seamless=\"seamless\" src=\"https://plot.ly/~hblumentals/122.embed\" height=\"525px\" width=\"100%\"></iframe>"
      ],
      "text/plain": [
       "<plotly.tools.PlotlyDisplay object>"
      ]
     },
     "metadata": {},
     "output_type": "display_data"
    }
   ],
   "source": [
    "display(nbplot(arb))"
   ]
  }
 ],
 "metadata": {
  "kernelspec": {
   "display_name": "Python 3",
   "language": "python",
   "name": "python3"
  },
  "language_info": {
   "codemirror_mode": {
    "name": "ipython",
    "version": 3
   },
   "file_extension": ".py",
   "mimetype": "text/x-python",
   "name": "python",
   "nbconvert_exporter": "python",
   "pygments_lexer": "ipython3",
   "version": "3.6.4"
  }
 },
 "nbformat": 4,
 "nbformat_minor": 2
}
